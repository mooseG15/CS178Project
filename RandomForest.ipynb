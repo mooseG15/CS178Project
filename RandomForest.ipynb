{
 "metadata": {
  "name": ""
 },
 "nbformat": 3,
 "nbformat_minor": 0,
 "worksheets": [
  {
   "cells": [
    {
     "cell_type": "code",
     "collapsed": false,
     "input": [
      "import numpy as np\n",
      "import matplotlib.pylpot as plt\n",
      "import matplotlib.patches as mpatches\n",
      "import mltools as ml\n",
      "import mltools.dtree as dtree\n",
      "import mltools.logistic2 as lcs2\n",
      "%matplotlib inline"
     ],
     "language": "python",
     "metadata": {},
     "outputs": []
    },
    {
     "cell_type": "code",
     "collapsed": false,
     "input": [
      "# Get Kaggle training data\n",
      "X = np.genfromtxt(\"data/kaggle.X1.train.txt\",delimiter=\",\")\n",
      "Y = np.genfromtxt(\"data/kaggle.Y.train.txt\",delimiter=\",\"\n",
      "        \n",
      "perSplit = 0.8 # Percent at which to split the training data\n",
      "               # (e.g 0.8 = 80/20 split)\n",
      "\n",
      "Xtr,Xte,Ytr,Yte = ml.splitData(X,Y,0.8)"
     ],
     "language": "python",
     "metadata": {},
     "outputs": []
    },
    {
     "cell_type": "code",
     "collapsed": false,
     "input": [
      "# Decision Tree Variables\n",
      "depth = 20 # the maxth depth of the decision tree\n",
      "nodes = 8 # the minimum number of data to split node\n",
      "\n",
      "# Ensemble Variables\n",
      "size = 25  # the amount of learners in the ensemble\n",
      "features = 55 # the number of features to select from when bagging"
     ],
     "language": "python",
     "metadata": {},
     "outputs": []
    },
    {
     "cell_type": "code",
     "collapsed": false,
     "input": [
      "# Create the ensemble\n",
      "ensemble = [None] * size\n",
      "\n",
      "# Create learners and add to ensemble\n",
      "for i in range(size):\n",
      "    dt = dtree.treeRegress()\n",
      "    Xi,Yi = ml.utils.bootstrapData(Xtr,Ytr)\n",
      "    dt.train(Xi,Yi,maxdepth=depth,nFeatures=features,minParent=nodes)\n",
      "    ensemble[i] = dt   "
     ],
     "language": "python",
     "metadata": {},
     "outputs": []
    },
    {
     "cell_type": "code",
     "collapsed": false,
     "input": [
      "# Test correctness of ensemble through MSE\n",
      "mTest = Xte.shape[0] # Acquire the shape of the test data\n",
      "Yhat = np.zeros((mTest,num))\n",
      "MSE = 0\n",
      "\n",
      "for i in range(size):\n",
      "    Yhat[:,i] = ensemble[i].predict(Xte).reshape(mTest)\n",
      "    \n",
      "    Yhat = np.mean(Yhat,axis=1)\n",
      "    \n",
      "    MSE = np.mean((Yte - Yhat.reshape(Yte.shape))**2,axis=0)\n",
      "    \n",
      "print(MSE)"
     ],
     "language": "python",
     "metadata": {},
     "outputs": []
    }
   ],
   "metadata": {}
  }
 ]
}