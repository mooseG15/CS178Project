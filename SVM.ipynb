{
 "cells": [
  {
   "cell_type": "markdown",
   "metadata": {},
   "source": [
    "Rodrigo Hernandez  \n",
    "Muzamil Syed  \n",
    "Mayra Gamboa  \n",
    "CS178  \n",
    "<h3 align='center'>Group Project</b>"
   ]
  },
  {
   "cell_type": "markdown",
   "metadata": {
    "collapsed": true
   },
   "source": [
    "<i><h2 align='center'>Introduction to Our Technique</h2></i>  \n",
    "The approach we will be taking will have to do with going into detail with Ensembles. Instead of having an ensemble of only one type of learner, we decided to have an ensemble with three different types of learners. These learners will be decision trees, K-Nearest-Neighbours, and support vector machines.  \n",
    "\n",
    "We will each choose our own type of learner and perform our own experiments to try and maximize the accuracy of our learner's predictions. After we have chosen our optimal learners, we will combine them into an ensemble of size 24 (8 learners of each type) and predict the test data using this new ensemble.  \n",
    "\n",
    "We will use existing packages provided by sklearn library. We will use the methods provided by the library and explore additional techniques to supplement these methods to vary the complexities of the models that result."
   ]
  },
  {
   "cell_type": "code",
   "execution_count": 1,
   "metadata": {
    "collapsed": false
   },
   "outputs": [],
   "source": [
    "##########Libraries Used Throughout The Code:##########\n",
    "\n",
    "import numpy as np\n",
    "import matplotlib.pyplot as plt\n",
    "import matplotlib.patches as mpatches\n",
    "import mltools as ml\n",
    "import mltools.dtree as dtree\n",
    "import mltools.logistic2 as lcs2\n",
    "import sklearn\n",
    "from sklearn import svm\n",
    "from sklearn import preprocessing\n",
    "%matplotlib inline"
   ]
  },
  {
   "cell_type": "markdown",
   "metadata": {},
   "source": [
    "We will used the provided Kaggle data in our class Kaggle Competition."
   ]
  },
  {
   "cell_type": "code",
   "execution_count": 2,
   "metadata": {
    "collapsed": false
   },
   "outputs": [],
   "source": [
    "##########Imported Data:##########\n",
    "# Get Kaggle training data\n",
    "X = np.genfromtxt(\"data/kaggle.X1.train.txt\",delimiter=\",\")\n",
    "Y = np.genfromtxt(\"data/kaggle.Y.train.txt\",delimiter=\",\")\n",
    "\n",
    "# also load features of the test data (to be predicted)\n",
    "Xe1 = np.genfromtxt(\"data/kaggle.X1.test.txt\",delimiter=\",\")\n",
    "\n",
    "perSplit = 0.8 # Percent at which to split the training data\n",
    "               # (e.g 0.8 = 80/20 split)\n",
    "\n",
    "Xtr,Xte,Ytr,Yte = ml.splitData(X,Y,0.8)"
   ]
  },
  {
   "cell_type": "code",
   "execution_count": 7,
   "metadata": {
    "collapsed": false
   },
   "outputs": [],
   "source": [
    "##########Initialization of the Ensemble:##########\n",
    "\n",
    "'''\n",
    "We will start with an Ensemble of size 25...\n",
    "''' \n",
    "\n",
    "# Ensemble Variables\n",
    "size = 25  # the amount of learners in the ensemble\n",
    "features = 55 # the number of features to select from when bagging\n",
    "\n",
    "# Create the ensemble\n",
    "ensemble = [None] * size\n"
   ]
  },
  {
   "cell_type": "markdown",
   "metadata": {},
   "source": [
    "Since the Kaggle data has 91 dimensions, one of the type of learners we chose was a support vector machine, as they perform well in high dimensionality. First, we tested different types of kernels to find which one performed the best. It is obvious that linear kernel was not going to estimate the data correctly, so a linear kernal was not tested."
   ]
  },
  {
   "cell_type": "code",
   "execution_count": 3,
   "metadata": {
    "collapsed": true
   },
   "outputs": [],
   "source": [
    "# First we scale the data for the SVM\n",
    "XiTe = preprocessing.scale(Xte)\n",
    "XiTr = preprocessing.scale(Xtr)"
   ]
  },
  {
   "cell_type": "code",
   "execution_count": 4,
   "metadata": {
    "collapsed": false
   },
   "outputs": [
    {
     "name": "stdout",
     "output_type": "stream",
     "text": [
      "SVM with rbf as kernal\n",
      "\tMSE of training data: 0.694313336835\n",
      "\tMSE of test data: 0.720472853771\n",
      "SVM with sigmoid as kernal\n",
      "\tMSE of training data: 0.786630556699\n",
      "\tMSE of test data: 0.821199078992\n",
      "SVM with poly as kernal\n",
      "\tMSE of training data: 7.17265890208e+27\n",
      "\tMSE of test data: 7.2573234728e+27\n"
     ]
    }
   ],
   "source": [
    "# Test accuracy of each type of SVM\n",
    "kernels = ['rbf','sigmoid','poly']\n",
    "\n",
    "for k in kernels:\n",
    "    clf = svm.SVR(kernel=k)\n",
    "    clf.fit(XiTr[:10000,],Ytr[:10000])\n",
    "    \n",
    "    YhatTrain = clf.predict(Xtr)\n",
    "    YhatTest = clf.predict(Xte)\n",
    "\n",
    "    MSEtrain = np.mean((Ytr - YhatTrain)**2)\n",
    "    MSEtest = np.mean((Yte - YhatTest)**2)\n",
    "\n",
    "    print(\"SVM with {} as kernal\".format(k))\n",
    "    print(\"\\tMSE of training data: \" + str(MSEtrain))\n",
    "    print(\"\\tMSE of test data: \" + str(MSEtest))"
   ]
  },
  {
   "cell_type": "markdown",
   "metadata": {
    "collapsed": false
   },
   "source": [
    "Based on the data, the RBF kernel had the best performance. Now, since SVM can take a long time with large amounts of data, we will see how long an SVM with a RBF kernel takes with different subsets of data and it's performance on said data."
   ]
  },
  {
   "cell_type": "code",
   "execution_count": 28,
   "metadata": {
    "collapsed": false
   },
   "outputs": [
    {
     "name": "stdout",
     "output_type": "stream",
     "text": [
      "Data for 5000 data points\n",
      "\tTraining: 3.24 seconds\n",
      "\tPredicting: 1.79 seconds\n",
      "\tMSE of data: 0.71\n",
      "Data for 10000 data points\n",
      "\tTraining: 12.60 seconds\n",
      "\tPredicting: 6.96 seconds\n",
      "\tMSE of data: 0.70\n",
      "Data for 20000 data points\n",
      "\tTraining: 180.33 seconds\n",
      "\tPredicting: 28.04 seconds\n",
      "\tMSE of data: 0.70\n",
      "Data for 40000 data points\n",
      "\tTraining: 890.83 seconds\n",
      "\tPredicting: 112.21 seconds\n",
      "\tMSE of data: 0.69\n",
      "Data for 60000 data points\n",
      "\tTraining: 3303.78 seconds\n",
      "\tPredicting: 245.58 seconds\n",
      "\tMSE of data: 0.70\n"
     ]
    }
   ],
   "source": [
    "import time\n",
    "\n",
    "clf = svm.SVR(kernel='rbf')\n",
    "Xi = preprocessing.scale(X)\n",
    "\n",
    "for i in [5000,10000,20000,40000,60000]:\n",
    "    print(\"Data for {} data points\".format(i))\n",
    "    t0 = time.time()\n",
    "    clf.fit(Xi[:i,],Y[:i])\n",
    "    \n",
    "    print(\"\\tTraining: {:.2f} seconds\".format(time.time()-t0))\n",
    "    \n",
    "    t0 = time.time()\n",
    "    Yhat = clf.predict(X[:i,])\n",
    "    print(\"\\tPredicting: {:.2f} seconds\".format(time.time()-t0))\n",
    "    \n",
    "    MSE = np.mean((Y[:i] - Yhat)**2)\n",
    "\n",
    "    print(\"\\tMSE of data: {:.2f}\".format(MSE))\n",
    "    \n",
    "    \n",
    "    "
   ]
  },
  {
   "cell_type": "markdown",
   "metadata": {},
   "source": [
    "Based on these results, it is best to train on a subset of the data of size 20000 since the accuracy is not improved much after 20000 data points but is taking much longer. This number will be used when training the final data in the ensemble.  \n",
    "  \n",
    "Since the SVM learner seems to be underfitting, I have decided to try and increase the value of the penalty (parameter C) and increasing the value of gamma, the kernel coefficient, to try and increase the complexity to see if it would do better. The following are the result of the test:"
   ]
  },
  {
   "cell_type": "raw",
   "metadata": {},
   "source": [
    " Data for C=0.1\n",
    "     MSE for training data: 0.61558137485\n",
    "     MSE for test data: 1.33784400503\n",
    " Data for C=0.5\n",
    "     MSE for training data: 0.537344845127\n",
    "     MSE for test data: 1.19044021805\n",
    " Data for C=1\n",
    "     MSE for training data: 0.497589581634\n",
    "     MSE for test data: 1.06304257652\n",
    " Data for C=20\n",
    "     MSE for training data: 0.393138627212\n",
    "     MSE for test data: 0.822942582304\n",
    " Data for C=50\n",
    "     MSE for training data: 0.403543750388\n",
    "     MSE for test data: 0.829147117563\n",
    " Data for gamma=0.1\n",
    "     MSE for training data: 0.665729419872\n",
    "     MSE for test data: 1.23645277441\n",
    " Data for gamma=0.5\n",
    "     MSE for training data: 0.728801622922\n",
    "     MSE for test data: 1.2831635786\n",
    " Data for gamma=1\n",
    "     MSE for training data: 0.729558885724\n",
    "     MSE for test data: 1.28298434064\n",
    " Data for gamma=10\n",
    "     MSE for training data: 0.729791044544\n",
    "     MSE for test data: 1.28297833932\n",
    " Data for gamma=20\n",
    "     MSE for training data: 0.729791076776\n",
    "     MSE for test data: 1.28297833925"
   ]
  },
  {
   "cell_type": "markdown",
   "metadata": {},
   "source": [
    "Changing these parameters did not do much to make the learner better. Since it seems to be underfitting, we tried to make an AdaBoost ensemble of SVMs to try and remedy the fact that it is underfitting."
   ]
  },
  {
   "cell_type": "code",
   "execution_count": null,
   "metadata": {
    "collapsed": true
   },
   "outputs": [],
   "source": [
    "# Scale data for learner\n",
    "group = ensemble.AdaBoostRegressor(svm.SVR(kernel='rbf',C=20),n_estimators=8)\n",
    "\n",
    "group.fit(Xi[:20000,],Yi[:20000])\n",
    "\n",
    "YhatTe = group.predict(Xte)\n",
    "\n",
    "print(\"MSE for test data: {}\".format(np.mean((Yte-YhatTe)**2)))"
   ]
  },
  {
   "cell_type": "markdown",
   "metadata": {},
   "source": [
    "This resulted in an MSE of 0.807 for the test data. Since we were not able to improve on the SVM model, we decided to drop it entirely on our final ensemble."
   ]
  },
  {
   "cell_type": "code",
   "execution_count": null,
   "metadata": {
    "collapsed": false
   },
   "outputs": [],
   "source": [
    "##########Code for the KNN Learner:##########\n",
    "from sklearn.neighbors import KNeighborsRegressor  #Imported Library for KNN Regressor \n",
    "\n",
    "'''\n",
    "KNN Learner INFO... \n",
    "-describe problem you use chose and methods to address it\n",
    "-how did you train the models?\n",
    "-how you selected any parameters each model/method requires \n",
    "-how they performed on test data\n",
    "-consider table of performance of different approaches or plots of perofrmance used to perform model selection\n",
    "''' \n",
    "\n",
    "'''\n",
    "Key Points:\n",
    "-Explore some aspect of prediction that we have not already done in depth \n",
    "-Identify a paper that proposes a method you think could be helpful \n",
    "-Use stacking/information from your leaderboard performance to try and improve your prediction quality \n",
    "-To explore approach: explore method from class fully enough to understand how changes might affect its performance,\n",
    "verify your findings make sense, and then use your findings to optimize performance\n",
    "-In Your Report: describe why you decided to explore this aspect, what you expected to find, and how your findings\n",
    "matched/ didnt match your expectations \n",
    "-Beware of the positive/negative aspects of the learners we discussed ie Nearest Neighbor methods can be powerful but can\n",
    "also be slow for large data sets...perhaps you can reduce the data in some way without sacrificing performance (bootstrap\n",
    "aggregation)\n",
    "-Linear methods may be fast but do not provide enough model complexity to provide a good fit so you may been to try and \n",
    "generate better features \n",
    "'''\n"
   ]
  },
  {
   "cell_type": "code",
   "execution_count": null,
   "metadata": {
    "collapsed": true
   },
   "outputs": [],
   "source": [
    "##########Code for the Decision Tree:##########\n",
    "#Imported Library for Decision Trees   \n",
    "\n",
    "'''\n",
    "Decision Tree Learner INFO... \n",
    "'''\n",
    "\n",
    "# Decision Tree Variables\n",
    "depth = 20 # the maxth depth of the decision tree\n",
    "nodes = 8 # the minimum number of data to split node"
   ]
  },
  {
   "cell_type": "code",
   "execution_count": null,
   "metadata": {
    "collapsed": true
   },
   "outputs": [],
   "source": [
    "##########Code to store each learner in the ensemble:##########\n",
    "\n",
    "'''\n",
    "How should we store the learners we come up with? Since right now we have an ensemble of size 25 we could maybe \n",
    "create a list for each of our learners and bring them here then index each list of learners, train it and then store \n",
    "it into the ensemble before making all the predictions. What do you guys think?  \n",
    "'''\n",
    "# Create learners and add to ensemble\n",
    "\n",
    "for i in range(size):\n",
    "    \n",
    "    #for learners in each list \n",
    "    \n",
    "        #get KNN learner \n",
    "        #train KNN learner \n",
    "        #ensemble[i] = KNN Learner \n",
    "        \n",
    "        #get NN learner \n",
    "        #train NN learner \n",
    "        #ensemble[i] = NN Learner \n",
    "\n",
    "        #get DT learner \n",
    "        #train DT learner \n",
    "        #ensemble[i] = DT Learner \n",
    "        \n",
    "    #dt = dtree.treeRegress()\n",
    "    #Xi,Yi = ml.utils.bootstrapData(Xtr,Ytr)\n",
    "    #dt.train(Xi,Yi,maxdepth=depth,nFeatures=features,minParent=nodes)\n",
    "    \n",
    "    #ensemble[i] = dt"
   ]
  },
  {
   "cell_type": "code",
   "execution_count": null,
   "metadata": {
    "collapsed": true
   },
   "outputs": [],
   "source": [
    "##########Code to output the predictions and evaluate them on kaggle:##########\n",
    "\n",
    "# Test correctness of ensemble through MSE\n",
    "mTest = Xte.shape[0] # Acquire the shape of the test data\n",
    "Yhat = np.zeros((mTest,num))\n",
    "MSE = 0\n",
    "\n",
    "for i in range(size):\n",
    "    Yhat[:,i] = ensemble[i].predict(Xte).reshape(mTest)\n",
    "    \n",
    "    Yhat = np.mean(Yhat,axis=1)\n",
    "    \n",
    "    MSE = np.mean((Yte - Yhat.reshape(Yte.shape))**2,axis=0)\n",
    "    \n",
    "print(MSE)\n",
    "\n",
    "'''\n",
    "Note:\n",
    "-Should not try to upload every possible model with every possible parameter setting \n",
    "-Use validation data, or cross-validation to assess which models are worth uploading, and just use the uploads\n",
    "to verify performance. \n",
    "'''\n",
    "#Ye = learner.predict( Xeval ); # make predictions\n",
    "# Note: be sure Ye is a flat vector, shape (m,)\n",
    "# otherwise, reshape it using e.g.\n",
    "# Ye = Ye.ravel()\n",
    "# or change the indexing in the code below:\n",
    "fh = open('predictions.csv','w') # open file for upload\n",
    "fh.write('ID,Prediction\\n') # output header line\n",
    "for i,yi in enumerate(Ye):\n",
    "fh.write('{},{}\\n'.format(i+1,yi)) # output each prediction\n",
    "fh.close() # close the file"
   ]
  },
  {
   "cell_type": "markdown",
   "metadata": {
    "collapsed": true
   },
   "source": [
    "<i><h2 align='center'>Conclusion</h2></i>  \n",
    "Here we can probably summarize our results and the learners we were responsible for.  \n"
   ]
  },
  {
   "cell_type": "code",
   "execution_count": null,
   "metadata": {
    "collapsed": true
   },
   "outputs": [],
   "source": []
  }
 ],
 "metadata": {
  "kernelspec": {
   "display_name": "Python 2",
   "language": "python",
   "name": "python2"
  },
  "language_info": {
   "codemirror_mode": {
    "name": "ipython",
    "version": 2
   },
   "file_extension": ".py",
   "mimetype": "text/x-python",
   "name": "python",
   "nbconvert_exporter": "python",
   "pygments_lexer": "ipython2",
   "version": "2.7.6"
  }
 },
 "nbformat": 4,
 "nbformat_minor": 0
}
